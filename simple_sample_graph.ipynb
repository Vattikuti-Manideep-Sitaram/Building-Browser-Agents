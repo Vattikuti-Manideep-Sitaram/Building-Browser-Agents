{
 "cells": [
  {
   "cell_type": "code",
   "execution_count": 43,
   "id": "6f9a7c3d",
   "metadata": {},
   "outputs": [],
   "source": [
    "from typing import TypedDict, Dict, Any\n",
    "from langgraph.graph import StateGraph, END\n",
    "from langgraph.types import interrupt,Command\n",
    "from typing import List\n",
    "from langgraph.checkpoint.sqlite import SqliteSaver\n",
    "import sqlite3"
   ]
  },
  {
   "cell_type": "code",
   "execution_count": 44,
   "id": "3d681956",
   "metadata": {},
   "outputs": [],
   "source": [
    "class State(TypedDict):\n",
    "    jira_key: str\n",
    "    feature_file:str\n",
    "    status: str\n",
    "    approved: bool"
   ]
  },
  {
   "cell_type": "code",
   "execution_count": 45,
   "id": "c3266add",
   "metadata": {},
   "outputs": [],
   "source": [
    "def get_jira_key(state: State) -> State:\n",
    "    return {\"jira_key\": \"QCSG-567\"}\n",
    "\n",
    "def get_feature_file(state: State) -> State:\n",
    "    \n",
    "    state[\"feature_file\"] = \"This is a feature file\"\n",
    "    if not state[\"approved\"]:\n",
    "        interrupt(\"awaiting approval\")\n",
    "    return {\"feature_file\": \"This is a feature file\"}\n",
    "\n",
    "def execute_task(state:State) -> State:\n",
    "    return {\"status\": \"completed\"}"
   ]
  },
  {
   "cell_type": "code",
   "execution_count": 46,
   "id": "e92cd544",
   "metadata": {},
   "outputs": [],
   "source": [
    "workflow = StateGraph(State)\n",
    "\n",
    "workflow.add_node(\"jira_node\",get_jira_key)\n",
    "workflow.add_node(\"feature_node\", get_feature_file)\n",
    "workflow.add_node(\"execute_task\",execute_task)\n",
    "\n",
    "workflow.add_edge(\"jira_node\",\"feature_node\" )\n",
    "workflow.add_edge(\"feature_node\",\"execute_task\" )\n",
    "workflow.add_edge(\"execute_task\",END)\n",
    "\n",
    "workflow.set_entry_point(\"jira_node\")\n",
    "\n",
    "checkpointer = SqliteSaver(sqlite3.connect(\"sample_checkpointer.db\", check_same_thread=False))\n",
    "graph = workflow.compile(checkpointer=checkpointer)\n"
   ]
  },
  {
   "cell_type": "code",
   "execution_count": 47,
   "id": "2ce2e677",
   "metadata": {},
   "outputs": [
    {
     "data": {
      "text/plain": [
       "{'jira_key': 'QCSG-567',\n",
       " 'feature_file': '',\n",
       " 'status': '',\n",
       " 'approved': False,\n",
       " '__interrupt__': [Interrupt(value='awaiting approval', resumable=True, ns=['feature_node:19273f9c-af4e-65a0-9357-53f0450c485b'])]}"
      ]
     },
     "execution_count": 47,
     "metadata": {},
     "output_type": "execute_result"
    }
   ],
   "source": [
    "\n",
    "\n",
    "initial_state= {\n",
    "    \"jira_key\": \"\",\n",
    "    \"feature_file\":\"\",\n",
    "    \"status\": \"\",\n",
    "    \"approved\": False\n",
    "}\n",
    "\n",
    "graph = workflow.compile(checkpointer=checkpointer)\n",
    "config = {\"configurable\": {\"thread_id\": \"thread-1\"}}\n",
    "result = graph.invoke(initial_state,config=config)\n",
    "result\n"
   ]
  },
  {
   "cell_type": "code",
   "execution_count": 48,
   "id": "b1c6f04a",
   "metadata": {},
   "outputs": [
    {
     "data": {
      "text/plain": [
       "{'jira_key': 'QCSG-567',\n",
       " 'feature_file': 'This is a feature file',\n",
       " 'status': 'completed',\n",
       " 'approved': False}"
      ]
     },
     "execution_count": 48,
     "metadata": {},
     "output_type": "execute_result"
    }
   ],
   "source": [
    "result=graph.invoke(Command(resume= {\"approved\":True}),config=config)\n",
    "result"
   ]
  },
  {
   "cell_type": "code",
   "execution_count": 49,
   "id": "db950580",
   "metadata": {},
   "outputs": [],
   "source": [
    "checkpointer.conn.close()"
   ]
  },
  {
   "cell_type": "code",
   "execution_count": null,
   "id": "ae4368f1",
   "metadata": {},
   "outputs": [],
   "source": []
  }
 ],
 "metadata": {
  "kernelspec": {
   "display_name": "base",
   "language": "python",
   "name": "python3"
  },
  "language_info": {
   "codemirror_mode": {
    "name": "ipython",
    "version": 3
   },
   "file_extension": ".py",
   "mimetype": "text/x-python",
   "name": "python",
   "nbconvert_exporter": "python",
   "pygments_lexer": "ipython3",
   "version": "3.13.2"
  }
 },
 "nbformat": 4,
 "nbformat_minor": 5
}
